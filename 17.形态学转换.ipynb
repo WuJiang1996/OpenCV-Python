{
 "cells": [
  {
   "cell_type": "code",
   "execution_count": 1,
   "metadata": {
    "collapsed": true
   },
   "outputs": [],
   "source": [
    "#不同的形态学操作，例如侵蚀，膨胀，开运算，闭运算\n",
    "\n",
    "#cv.erode(),cv.dilate(), cv.morphologyEx()"
   ]
  },
  {
   "cell_type": "code",
   "execution_count": 1,
   "metadata": {},
   "outputs": [],
   "source": [
    "import cv2 as cv\n",
    "import numpy as np\n",
    "\n",
    "img = cv.imread('j.png',0)\n",
    "\n",
    "#侵蚀\n",
    "kernel = np.ones((5,5),np.uint8)\n",
    "erosion = cv.erode(img,kernel,iterations = 1)\n",
    "\n",
    "#扩张\n",
    "dilation = cv.dilate(img,kernel,iterations = 1) \n",
    "\n",
    "#开运算\n",
    "opening = cv.morphologyEx(img, cv.MORPH_OPEN, kernel) \n",
    "\n",
    "#闭运算\n",
    "closing = cv.morphologyEx(img, cv.MORPH_CLOSE, kernel) \n",
    "\n",
    "#形态学梯度\n",
    "gradient = cv.morphologyEx(img, cv.MORPH_GRADIENT, kernel) \n",
    "\n",
    "#顶帽\n",
    "tophat = cv.morphologyEx(img, cv.MORPH_TOPHAT, kernel) \n",
    "\n",
    "#黑帽\n",
    "blackhat = cv.morphologyEx(img, cv.MORPH_BLACKHAT, kernel)\n",
    "\n"
   ]
  },
  {
   "cell_type": "code",
   "execution_count": 2,
   "metadata": {},
   "outputs": [
    {
     "data": {
      "text/plain": [
       "array([[1, 1, 1, 1, 1],\n",
       "       [1, 1, 1, 1, 1],\n",
       "       [1, 1, 1, 1, 1],\n",
       "       [1, 1, 1, 1, 1],\n",
       "       [1, 1, 1, 1, 1]], dtype=uint8)"
      ]
     },
     "execution_count": 2,
     "metadata": {},
     "output_type": "execute_result"
    }
   ],
   "source": [
    "#OpenCV具有一个函数cv.getStructuringElement()。\n",
    "#您只需传递内核的形状和大小，即可获得所需的内核。\n",
    "# 矩形内核\n",
    "cv.getStructuringElement(cv.MORPH_RECT,(5,5))"
   ]
  },
  {
   "cell_type": "code",
   "execution_count": 3,
   "metadata": {},
   "outputs": [
    {
     "data": {
      "text/plain": [
       "array([[0, 0, 1, 0, 0],\n",
       "       [1, 1, 1, 1, 1],\n",
       "       [1, 1, 1, 1, 1],\n",
       "       [1, 1, 1, 1, 1],\n",
       "       [0, 0, 1, 0, 0]], dtype=uint8)"
      ]
     },
     "execution_count": 3,
     "metadata": {},
     "output_type": "execute_result"
    }
   ],
   "source": [
    "# 椭圆内核\n",
    "cv.getStructuringElement(cv.MORPH_ELLIPSE,(5,5))"
   ]
  },
  {
   "cell_type": "code",
   "execution_count": 4,
   "metadata": {},
   "outputs": [
    {
     "data": {
      "text/plain": [
       "array([[0, 0, 1, 0, 0],\n",
       "       [0, 0, 1, 0, 0],\n",
       "       [1, 1, 1, 1, 1],\n",
       "       [0, 0, 1, 0, 0],\n",
       "       [0, 0, 1, 0, 0]], dtype=uint8)"
      ]
     },
     "execution_count": 4,
     "metadata": {},
     "output_type": "execute_result"
    }
   ],
   "source": [
    "# 十字内核\n",
    "cv.getStructuringElement(cv.MORPH_CROSS,(5,5))"
   ]
  },
  {
   "cell_type": "code",
   "execution_count": null,
   "metadata": {},
   "outputs": [],
   "source": []
  }
 ],
 "metadata": {
  "kernelspec": {
   "display_name": "Python 3",
   "language": "python",
   "name": "python3"
  },
  "language_info": {
   "codemirror_mode": {
    "name": "ipython",
    "version": 3
   },
   "file_extension": ".py",
   "mimetype": "text/x-python",
   "name": "python",
   "nbconvert_exporter": "python",
   "pygments_lexer": "ipython3",
   "version": "3.7.0"
  }
 },
 "nbformat": 4,
 "nbformat_minor": 2
}
