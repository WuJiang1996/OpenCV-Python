{
 "cells": [
  {
   "cell_type": "code",
   "execution_count": null,
   "metadata": {},
   "outputs": [],
   "source": [
    "#查看所有支持的鼠标事件\n",
    "import cv2\n",
    "\n",
    "events = [i for i in dir(cv2) if 'EVENT' in i]\n",
    "print(events)"
   ]
  },
  {
   "cell_type": "code",
   "execution_count": null,
   "metadata": {},
   "outputs": [],
   "source": [
    "#在双击过的地方绘制一个圆圈\n",
    "\n",
    "import cv2\n",
    "import numpy as np\n",
    "\n",
    "#创建鼠标回调函数\n",
    "def draw_circle(event,x,y,flags,param):\n",
    "    if event == cv2.EVENT_LBUTTONDBLCLK:\n",
    "        cv2.circle(img,(x,y),100,(255,0,0),-1)\n",
    "\n",
    "#创建图像和窗口并将窗口与回调函数绑定\n",
    "img = np.zeros((512,512,3),np.uint8)\n",
    "cv2.namedWindow('image')\n",
    "cv2.setMouseCallback('image',draw_circle)\n",
    "\n",
    "while(1):\n",
    "    cv2.imshow('iamge',img)\n",
    "    if cv2.waitKey(0):\n",
    "        break\n",
    "cv2.destroyAllWindows()"
   ]
  },
  {
   "cell_type": "code",
   "execution_count": null,
   "metadata": {},
   "outputs": [],
   "source": [
    "#在拖动鼠标时绘制矩形或者是圆圈（就像画图程序中一样）。\n",
    "\n",
    "import cv2\n",
    "import numpy as np\n",
    "\n",
    "# 当鼠标按下时变为 True\n",
    "drawing=False\n",
    "# 如果 mode 为 true 绘制矩形。按下'm' 变成绘制曲线。\n",
    "mode=True\n",
    "ix,iy=-1,-1\n",
    "\n",
    "# 创建回调函数\n",
    "def draw_circle(event,x,y,flags,param):\n",
    "    global ix,iy,drawing,mode\n",
    "# 当按下左键是返回起始位置坐标\n",
    "    if event==cv2.EVENT_LBUTTONDOWN:\n",
    "        drawing=True\n",
    "        ix,iy=x,y\n",
    "# 当鼠标左键按下并移动是绘制图形。event 可以查看移动，flag 查看是否按下\n",
    "    elif event==cv2.EVENT_MOUSEMOVE and flags==cv2.EVENT_FLAG_LBUTTON:\n",
    "        if drawing==True:\n",
    "            if mode==True:\n",
    "                cv2.rectangle(img,(ix,iy),(x,y),(0,255,0),-1)\n",
    "            else:\n",
    "                # 绘制圆圈，小圆点连在一起就成了线，3 代表了笔画的粗细\n",
    "                cv2.circle(img,(x,y),3,(0,0,255),-1) \n",
    "                # 下面注释掉的代码是起始点为圆心，起点到终点为半径的\n",
    "                # r=int(np.sqrt((x-ix)**2+(y-iy)**2))\n",
    "                # cv2.circle(img,(x,y),r,(0,0,255),-1)\n",
    "                # 当鼠标松开停止绘画。\n",
    "    elif event==cv2.EVENT_LBUTTONUP:\n",
    "        drawing==False\n",
    "        # if mode==True:\n",
    "            # cv2.rectangle(img,(ix,iy),(x,y),(0,255,0),-1)\n",
    "        # else:\n",
    "            # cv2.circle(img,(x,y),5,(0,0,255),-1)\n",
    "\n",
    "\n",
    "#这个回调函数与 OpenCV 窗口绑定在一起。在主循环中我们需要将键盘上的“m”键与模式转换绑定在一起。\n",
    "img=np.zeros((512,512,3),np.uint8)\n",
    "cv2.namedWindow('image')\n",
    "cv2.setMouseCallback('image',draw_circle)\n",
    "while(1):\n",
    "    cv2.imshow('image',img)\n",
    "    k=cv2.waitKey(0)&0xFF\n",
    "    if k==ord('m'):\n",
    "        mode=not mode\n",
    "    elif k==27:\n",
    "        break\n",
    "\n"
   ]
  },
  {
   "cell_type": "code",
   "execution_count": null,
   "metadata": {},
   "outputs": [],
   "source": []
  }
 ],
 "metadata": {
  "kernelspec": {
   "display_name": "Python 3",
   "language": "python",
   "name": "python3"
  },
  "language_info": {
   "codemirror_mode": {
    "name": "ipython",
    "version": 3
   },
   "file_extension": ".py",
   "mimetype": "text/x-python",
   "name": "python",
   "nbconvert_exporter": "python",
   "pygments_lexer": "ipython3",
   "version": "3.7.0"
  }
 },
 "nbformat": 4,
 "nbformat_minor": 2
}
